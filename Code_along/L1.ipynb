{
 "cells": [
  {
   "cell_type": "code",
   "execution_count": 1,
   "metadata": {},
   "outputs": [
    {
     "name": "stdout",
     "output_type": "stream",
     "text": [
      "(Matrix([\n",
      "[1, -2, 0, 0, 3],\n",
      "[0,  0, 1, 0, 2],\n",
      "[0,  0, 0, 1, 1],\n",
      "[0,  0, 0, 0, 0]]), (0, 2, 3))\n"
     ]
    }
   ],
   "source": [
    "import sympy\n",
    "\n",
    "M = sympy.Matrix(\n",
    "    [[1, -2, 3, 5, 14],\n",
    "     [-2, 4, -5, -10, -26], \n",
    "     [2, -4, 6, 11, 29], \n",
    "     [-1, 2, -2, -5, -12]]\n",
    ")\n",
    "\n",
    "print(M.rref())\n"
   ]
  }
 ],
 "metadata": {
  "kernelspec": {
   "display_name": "Python 3.9.12 ('Linj-r-algebra-Philip-de-Canesei-70VoYuPf')",
   "language": "python",
   "name": "python3"
  },
  "language_info": {
   "codemirror_mode": {
    "name": "ipython",
    "version": 3
   },
   "file_extension": ".py",
   "mimetype": "text/x-python",
   "name": "python",
   "nbconvert_exporter": "python",
   "pygments_lexer": "ipython3",
   "version": "3.9.12"
  },
  "orig_nbformat": 4,
  "vscode": {
   "interpreter": {
    "hash": "1a5dfe45ba4ccd92829c9d4120d7199630614cc35ce8f0b4e7dd2dd970f50b85"
   }
  }
 },
 "nbformat": 4,
 "nbformat_minor": 2
}
